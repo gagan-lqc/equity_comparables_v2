{
 "cells": [
  {
   "cell_type": "code",
   "execution_count": 1,
   "metadata": {},
   "outputs": [],
   "source": [
    "import pandas as pd\n",
    "import json\n",
    "import concurrent.futures\n",
    "from processing import process_url"
   ]
  },
  {
   "cell_type": "markdown",
   "metadata": {},
   "source": [
    "## Load Public Company Data"
   ]
  },
  {
   "cell_type": "code",
   "execution_count": 2,
   "metadata": {},
   "outputs": [
    {
     "data": {
      "text/html": [
       "<div>\n",
       "<style scoped>\n",
       "    .dataframe tbody tr th:only-of-type {\n",
       "        vertical-align: middle;\n",
       "    }\n",
       "\n",
       "    .dataframe tbody tr th {\n",
       "        vertical-align: top;\n",
       "    }\n",
       "\n",
       "    .dataframe thead th {\n",
       "        text-align: right;\n",
       "    }\n",
       "</style>\n",
       "<table border=\"1\" class=\"dataframe\">\n",
       "  <thead>\n",
       "    <tr style=\"text-align: right;\">\n",
       "      <th></th>\n",
       "      <th>id</th>\n",
       "      <th>name</th>\n",
       "      <th>ticker</th>\n",
       "      <th>exchange</th>\n",
       "      <th>hq</th>\n",
       "      <th>value_proposition</th>\n",
       "      <th>industry</th>\n",
       "      <th>vertical</th>\n",
       "      <th>target_audience</th>\n",
       "      <th>market</th>\n",
       "      <th>value_proposition_embedding</th>\n",
       "      <th>companytype</th>\n",
       "      <th>companystatustype</th>\n",
       "    </tr>\n",
       "  </thead>\n",
       "  <tbody>\n",
       "    <tr>\n",
       "      <th>0</th>\n",
       "      <td>573678193</td>\n",
       "      <td>09WOMEN Co., Ltd.</td>\n",
       "      <td>A366030</td>\n",
       "      <td>KOSDAQ</td>\n",
       "      <td>South Korea</td>\n",
       "      <td>09WOMEN Co., Ltd. helps women feel confident a...</td>\n",
       "      <td>Consumer Goods</td>\n",
       "      <td>Ecommerce</td>\n",
       "      <td>consumers</td>\n",
       "      <td>B2C</td>\n",
       "      <td>[0.156416118, -0.00892397761, 0.749229372, -0....</td>\n",
       "      <td>Public Company</td>\n",
       "      <td>Operating</td>\n",
       "    </tr>\n",
       "    <tr>\n",
       "      <th>1</th>\n",
       "      <td>25617678</td>\n",
       "      <td>1000mercis</td>\n",
       "      <td>ALMIL</td>\n",
       "      <td>Euronext Paris</td>\n",
       "      <td>France</td>\n",
       "      <td>Numberly helps businesses transform their digi...</td>\n",
       "      <td>Advertisements</td>\n",
       "      <td>MarTech</td>\n",
       "      <td>marketing teams</td>\n",
       "      <td>B2B</td>\n",
       "      <td>[0.114381269, 0.332636148, 0.602183104, 0.2235...</td>\n",
       "      <td>Public Company</td>\n",
       "      <td>Operating</td>\n",
       "    </tr>\n",
       "    <tr>\n",
       "      <th>2</th>\n",
       "      <td>20297001</td>\n",
       "      <td>104 Corporation</td>\n",
       "      <td>3130</td>\n",
       "      <td>Taiwan Stock Exchange</td>\n",
       "      <td>Taiwan</td>\n",
       "      <td>104 Corporation helps job seekers and employer...</td>\n",
       "      <td>Advertisements</td>\n",
       "      <td>OTHER</td>\n",
       "      <td>hr teams</td>\n",
       "      <td>B2B</td>\n",
       "      <td>[-0.0122938948, 0.414331198, 0.464051723, 0.16...</td>\n",
       "      <td>Public Company</td>\n",
       "      <td>Operating</td>\n",
       "    </tr>\n",
       "    <tr>\n",
       "      <th>3</th>\n",
       "      <td>706460426</td>\n",
       "      <td>10X Capital Venture Acquisition Corp. II</td>\n",
       "      <td>AAGR</td>\n",
       "      <td>Nasdaq Global Market</td>\n",
       "      <td>United States</td>\n",
       "      <td>10X Capital Venture Acquisition Corp. II helps...</td>\n",
       "      <td>Finance</td>\n",
       "      <td>FinTech</td>\n",
       "      <td>c-levels</td>\n",
       "      <td>B2B</td>\n",
       "      <td>[-0.384676039, 0.181011468, 0.64754796, 0.1493...</td>\n",
       "      <td>Public Company</td>\n",
       "      <td>Acquired</td>\n",
       "    </tr>\n",
       "    <tr>\n",
       "      <th>4</th>\n",
       "      <td>706460601</td>\n",
       "      <td>10X Capital Venture Acquisition Corp. III</td>\n",
       "      <td>VCXB</td>\n",
       "      <td>NYSE MKT LLC</td>\n",
       "      <td>United States</td>\n",
       "      <td>10X Capital Venture Acquisition Corp. III help...</td>\n",
       "      <td>Finance</td>\n",
       "      <td>FinTech</td>\n",
       "      <td>investors</td>\n",
       "      <td>B2B</td>\n",
       "      <td>[-0.41517812, 0.11140652, 0.632222295, 0.16715...</td>\n",
       "      <td>Public Company</td>\n",
       "      <td>Operating Subsidiary</td>\n",
       "    </tr>\n",
       "    <tr>\n",
       "      <th>...</th>\n",
       "      <td>...</td>\n",
       "      <td>...</td>\n",
       "      <td>...</td>\n",
       "      <td>...</td>\n",
       "      <td>...</td>\n",
       "      <td>...</td>\n",
       "      <td>...</td>\n",
       "      <td>...</td>\n",
       "      <td>...</td>\n",
       "      <td>...</td>\n",
       "      <td>...</td>\n",
       "      <td>...</td>\n",
       "      <td>...</td>\n",
       "    </tr>\n",
       "    <tr>\n",
       "      <th>15716</th>\n",
       "      <td>865192</td>\n",
       "      <td>Zydus Lifesciences Limited</td>\n",
       "      <td>ZYDUSLIFE</td>\n",
       "      <td>National Stock Exchange of India</td>\n",
       "      <td>India</td>\n",
       "      <td>Zydus Lifesciences Limited helps patients and ...</td>\n",
       "      <td>Health Care</td>\n",
       "      <td>HealthTech</td>\n",
       "      <td>consumers</td>\n",
       "      <td>B2C</td>\n",
       "      <td>[-0.0745946318, 0.219399974, 0.342252433, 0.25...</td>\n",
       "      <td>Public Company</td>\n",
       "      <td>Operating</td>\n",
       "    </tr>\n",
       "    <tr>\n",
       "      <th>15717</th>\n",
       "      <td>20334150</td>\n",
       "      <td>Zydus Wellness Limited</td>\n",
       "      <td>531335</td>\n",
       "      <td>Mumbai Stock Exchange</td>\n",
       "      <td>India</td>\n",
       "      <td>Zydus Wellness Limited helps consumers achieve...</td>\n",
       "      <td>Consumer Goods</td>\n",
       "      <td>OTHER</td>\n",
       "      <td>consumers</td>\n",
       "      <td>B2C</td>\n",
       "      <td>[0.0383488126, 0.194696829, 0.544707298, 0.275...</td>\n",
       "      <td>Public Company</td>\n",
       "      <td>Operating Subsidiary</td>\n",
       "    </tr>\n",
       "    <tr>\n",
       "      <th>15718</th>\n",
       "      <td>43279463</td>\n",
       "      <td>Zymeworks Inc.</td>\n",
       "      <td>ZYME</td>\n",
       "      <td>Nasdaq Global Select</td>\n",
       "      <td>Canada</td>\n",
       "      <td>Zymeworks Inc. helps patients with difficult t...</td>\n",
       "      <td>Health Care</td>\n",
       "      <td>HealthTech</td>\n",
       "      <td>consumers</td>\n",
       "      <td>B2C</td>\n",
       "      <td>[-0.0635716319, 0.282907724, 0.103864908, 0.07...</td>\n",
       "      <td>Public Company</td>\n",
       "      <td>Operating</td>\n",
       "    </tr>\n",
       "    <tr>\n",
       "      <th>15719</th>\n",
       "      <td>3103657</td>\n",
       "      <td>Zynex, Inc.</td>\n",
       "      <td>ZYXI</td>\n",
       "      <td>Nasdaq Global Select</td>\n",
       "      <td>United States</td>\n",
       "      <td>Zynex, Inc. helps patients suffering from pain...</td>\n",
       "      <td>Health Care</td>\n",
       "      <td>HealthTech</td>\n",
       "      <td>consumers</td>\n",
       "      <td>B2C</td>\n",
       "      <td>[-0.401839107, 0.335190654, 0.282194048, -0.06...</td>\n",
       "      <td>Public Company</td>\n",
       "      <td>Operating</td>\n",
       "    </tr>\n",
       "    <tr>\n",
       "      <th>15720</th>\n",
       "      <td>1370715</td>\n",
       "      <td>Zytronic plc</td>\n",
       "      <td>ZYT</td>\n",
       "      <td>London Stock Exchange AIM Market</td>\n",
       "      <td>United Kingdom</td>\n",
       "      <td>Zytronic plc helps businesses like digital sig...</td>\n",
       "      <td>Manufacturing</td>\n",
       "      <td>IndustrialTech</td>\n",
       "      <td>consumers</td>\n",
       "      <td>B2B</td>\n",
       "      <td>[-0.0138592226, 0.408836633, 0.626488984, 0.10...</td>\n",
       "      <td>Public Company</td>\n",
       "      <td>Operating</td>\n",
       "    </tr>\n",
       "  </tbody>\n",
       "</table>\n",
       "<p>15721 rows × 13 columns</p>\n",
       "</div>"
      ],
      "text/plain": [
       "              id                                       name     ticker  \\\n",
       "0      573678193                          09WOMEN Co., Ltd.    A366030   \n",
       "1       25617678                                 1000mercis      ALMIL   \n",
       "2       20297001                            104 Corporation       3130   \n",
       "3      706460426   10X Capital Venture Acquisition Corp. II       AAGR   \n",
       "4      706460601  10X Capital Venture Acquisition Corp. III       VCXB   \n",
       "...          ...                                        ...        ...   \n",
       "15716     865192                 Zydus Lifesciences Limited  ZYDUSLIFE   \n",
       "15717   20334150                     Zydus Wellness Limited     531335   \n",
       "15718   43279463                             Zymeworks Inc.       ZYME   \n",
       "15719    3103657                                Zynex, Inc.       ZYXI   \n",
       "15720    1370715                               Zytronic plc        ZYT   \n",
       "\n",
       "                               exchange              hq  \\\n",
       "0                                KOSDAQ     South Korea   \n",
       "1                        Euronext Paris          France   \n",
       "2                 Taiwan Stock Exchange          Taiwan   \n",
       "3                  Nasdaq Global Market   United States   \n",
       "4                          NYSE MKT LLC   United States   \n",
       "...                                 ...             ...   \n",
       "15716  National Stock Exchange of India           India   \n",
       "15717             Mumbai Stock Exchange           India   \n",
       "15718              Nasdaq Global Select          Canada   \n",
       "15719              Nasdaq Global Select   United States   \n",
       "15720  London Stock Exchange AIM Market  United Kingdom   \n",
       "\n",
       "                                       value_proposition        industry  \\\n",
       "0      09WOMEN Co., Ltd. helps women feel confident a...  Consumer Goods   \n",
       "1      Numberly helps businesses transform their digi...  Advertisements   \n",
       "2      104 Corporation helps job seekers and employer...  Advertisements   \n",
       "3      10X Capital Venture Acquisition Corp. II helps...         Finance   \n",
       "4      10X Capital Venture Acquisition Corp. III help...         Finance   \n",
       "...                                                  ...             ...   \n",
       "15716  Zydus Lifesciences Limited helps patients and ...     Health Care   \n",
       "15717  Zydus Wellness Limited helps consumers achieve...  Consumer Goods   \n",
       "15718  Zymeworks Inc. helps patients with difficult t...     Health Care   \n",
       "15719  Zynex, Inc. helps patients suffering from pain...     Health Care   \n",
       "15720  Zytronic plc helps businesses like digital sig...   Manufacturing   \n",
       "\n",
       "             vertical  target_audience market  \\\n",
       "0           Ecommerce        consumers    B2C   \n",
       "1             MarTech  marketing teams    B2B   \n",
       "2               OTHER         hr teams    B2B   \n",
       "3             FinTech         c-levels    B2B   \n",
       "4             FinTech        investors    B2B   \n",
       "...               ...              ...    ...   \n",
       "15716      HealthTech        consumers    B2C   \n",
       "15717           OTHER        consumers    B2C   \n",
       "15718      HealthTech        consumers    B2C   \n",
       "15719      HealthTech        consumers    B2C   \n",
       "15720  IndustrialTech        consumers    B2B   \n",
       "\n",
       "                             value_proposition_embedding     companytype  \\\n",
       "0      [0.156416118, -0.00892397761, 0.749229372, -0....  Public Company   \n",
       "1      [0.114381269, 0.332636148, 0.602183104, 0.2235...  Public Company   \n",
       "2      [-0.0122938948, 0.414331198, 0.464051723, 0.16...  Public Company   \n",
       "3      [-0.384676039, 0.181011468, 0.64754796, 0.1493...  Public Company   \n",
       "4      [-0.41517812, 0.11140652, 0.632222295, 0.16715...  Public Company   \n",
       "...                                                  ...             ...   \n",
       "15716  [-0.0745946318, 0.219399974, 0.342252433, 0.25...  Public Company   \n",
       "15717  [0.0383488126, 0.194696829, 0.544707298, 0.275...  Public Company   \n",
       "15718  [-0.0635716319, 0.282907724, 0.103864908, 0.07...  Public Company   \n",
       "15719  [-0.401839107, 0.335190654, 0.282194048, -0.06...  Public Company   \n",
       "15720  [-0.0138592226, 0.408836633, 0.626488984, 0.10...  Public Company   \n",
       "\n",
       "          companystatustype  \n",
       "0                 Operating  \n",
       "1                 Operating  \n",
       "2                 Operating  \n",
       "3                  Acquired  \n",
       "4      Operating Subsidiary  \n",
       "...                     ...  \n",
       "15716             Operating  \n",
       "15717  Operating Subsidiary  \n",
       "15718             Operating  \n",
       "15719             Operating  \n",
       "15720             Operating  \n",
       "\n",
       "[15721 rows x 13 columns]"
      ]
     },
     "execution_count": 2,
     "metadata": {},
     "output_type": "execute_result"
    }
   ],
   "source": [
    "df = pd.read_csv('public_company_features_final.csv')\n",
    "df.drop(columns=['Unnamed: 0'], inplace=True)\n",
    "# Convert string to list for 'description_embedding Competitor'\n",
    "df[\"value_proposition_embedding\"] = df[\"value_proposition_embedding\"].apply(\n",
    "    lambda x: [float(x) for x in x.replace(\"[\", \"\").replace(\"]\", \"\").split()]\n",
    ")\n",
    "filtered_df = pd.read_csv('snp_public_companies_final.csv')\n",
    "# active_companies = list(filtered_df['company_id'].unique())\n",
    "filtered_df.rename(columns={'company_id': 'id'}, inplace=True)\n",
    "df = pd.merge(df, filtered_df[['id', 'companytype', 'companystatustype']],\n",
    "              on =['id'], how='inner')\n",
    "df"
   ]
  },
  {
   "cell_type": "code",
   "execution_count": 3,
   "metadata": {},
   "outputs": [
    {
     "name": "stdout",
     "output_type": "stream",
     "text": [
      "{'NYSE MKT LLC': 1.0, 'Nasdaq Global Market': 1.0, 'Nasdaq Global Select': 1.0, 'Nasdaq Capital Market': 1.0, 'The Toronto Stock Exchange': 0.75, 'London Stock Exchange': 0.75, 'London Stock Exchange AIM Market': 0.5, 'SIX Swiss Exchange': 0.5, 'XETRA Trading Platform': 0.5, 'National Stock Exchange of India': 0, 'Mumbai Stock Exchange': 0, 'The Tokyo Stock Exchange': 0, 'Euronext Paris': 0.5, 'Euronext Brussels': 0.5, 'Euronext Amsterdam': 0.5, 'Australian Securities Exchange': 0.5, 'Bolsa de Madrid': 0.5, 'Bolsa de Valores de Sao Paulo': 0.5, 'The Stock Exchange of Hong Kong Ltd.': 0, 'Singapore Exchange': 0, 'OMX Nordic Exchange Copenhagen': 0.5, 'OMX Nordic Exchange Helsinki': 0.5, 'OMX Nordic Exchange Stockholm': 0.5, 'Warsaw Stock Exchange': 0.5, 'Indonesia Stock Exchange': 0, 'The Tel-Aviv Stock Exchange': 0}\n"
     ]
    }
   ],
   "source": [
    "import json\n",
    "with open('region_mapping.json', 'r') as f:\n",
    "    # Load JSON data from the file\n",
    "    region_mapping = json.load(f)\n",
    "\n",
    "print(region_mapping['USA'])"
   ]
  },
  {
   "cell_type": "markdown",
   "metadata": {},
   "source": [
    "## Prepare Private Company Data"
   ]
  },
  {
   "cell_type": "code",
   "execution_count": 4,
   "metadata": {},
   "outputs": [],
   "source": [
    "def process_row(row):\n",
    "    url = row['URL']  \n",
    "    id = 'Not Applicable'\n",
    "    name = row[\"Company\"]\n",
    "    ticker = 'Not Applicable'\n",
    "    exchange = 'Not Applicable'\n",
    "    description = 'Not Applicable'\n",
    "    hq = row['Country']\n",
    "    return process_url(url, id, name, description, ticker, exchange, hq)\n"
   ]
  },
  {
   "cell_type": "code",
   "execution_count": 5,
   "metadata": {},
   "outputs": [
    {
     "name": "stderr",
     "output_type": "stream",
     "text": [
      "2024-04-16 23:50:07,476 - INFO - Scraping URL: https://www.voyantis.ai/\n",
      "2024-04-16 23:50:07,477 - INFO - Scraping URL: https://www.rapyd.net/\n",
      "2024-04-16 23:50:07,478 - INFO - Scraping URL: https://utopiamusic.com/\n",
      "2024-04-16 23:50:07,479 - INFO - Scraping URL: https://www.pragmaticplay.com/en/\n",
      "2024-04-16 23:50:07,481 - INFO - Scraping URL: https://khealth.com/\n",
      "2024-04-16 23:50:07,483 - INFO - Scraping URL: https://fire-arc.com/\n",
      "2024-04-16 23:50:07,484 - INFO - Scraping URL: https://www.511tactical.com/\n",
      "2024-04-16 23:50:07,485 - INFO - Scraping URL: https://www.ahava.com/\n",
      "2024-04-16 23:50:07,487 - INFO - Scraping URL: https://www.amagi.com/\n",
      "2024-04-16 23:50:07,488 - INFO - Scraping URL: https://www.miya-water.com/en/\n",
      "2024-04-16 23:50:07,489 - INFO - Scraping URL: https://www.monicavinader.com/\n",
      "2024-04-16 23:50:07,491 - INFO - Scraping URL: https://www.sumup.com/en-gb/\n",
      "2024-04-16 23:50:07,492 - INFO - Scraping URL: https://hireup.com.au/\n",
      "2024-04-16 23:50:07,493 - INFO - Scraping URL: https://www.madison-reed.com/\n",
      "2024-04-16 23:50:07,495 - INFO - Scraping URL: https://www.moonactive.com/\n",
      "2024-04-16 23:50:07,496 - INFO - Scraping URL: https://vuoriclothing.com/\n",
      "2024-04-16 23:50:07,498 - INFO - Scraping URL: https://www.aloyoga.com/\n",
      "2024-04-16 23:50:07,498 - INFO - Scraping URL: https://www.orderyoyo.com/\n",
      "2024-04-16 23:50:07,499 - INFO - Scraping URL: https://www.airwallex.com/\n",
      "2024-04-16 23:50:07,501 - INFO - Scraping URL: https://www.frontstory.com/\n",
      "2024-04-16 23:50:08,203 - INFO - Voyantis LTV Modeling Platform LTV prediction with AI\n",
      "2024-04-16 23:50:08,208 - INFO - K Health 24 7 Access to High Quality Medicine\n",
      "2024-04-16 23:50:08,209 - INFO - Scraping URL: https://www.meesho.com/\n",
      "2024-04-16 23:50:08,213 - INFO - Scraping URL: https://3ina.com/\n",
      "2024-04-16 23:50:08,223 - INFO - Athletic Clothing Activewear Apparel for Performance Vuori\n",
      "2024-04-16 23:50:08,225 - INFO - Scraping URL: https://artlist.io/\n",
      "2024-04-16 23:50:08,254 - INFO - Moon Active\n",
      "2024-04-16 23:50:08,254 - INFO - Scraping URL: https://app.koyfin.com/\n",
      "2024-04-16 23:50:08,331 - INFO - Global Payment Processing and Fintech Liberate Global Commerce\n",
      "2024-04-16 23:50:08,333 - INFO - Scraping URL: https://www.remilk.com/\n",
      "2024-04-16 23:50:08,382 - INFO - SumUp Explore our card readers and payment solutions\n",
      "2024-04-16 23:50:08,384 - INFO - Scraping URL: https://aleph-farms.com/\n",
      "2024-04-16 23:50:08,421 - INFO - Utopia Music\n",
      "2024-04-16 23:50:08,451 - INFO - 5 11 Tactical Premium Tactical Gear Clothing Accessories\n",
      "2024-04-16 23:50:08,465 - INFO - Water efficiency management Miya\n",
      "2024-04-16 23:50:08,494 - INFO - FrontSTORY\n",
      "2024-04-16 23:50:08,503 - INFO - Remilk Real Dairy No Cows\n",
      "2024-04-16 23:50:08,516 - INFO - Title not found\n",
      "2024-04-16 23:50:08,549 - INFO - Cloud Solutions for FAST CTV Broadcast TV Amagi\n",
      "2024-04-16 23:50:08,560 - INFO - Koyfin Advanced graphing and analytical tools for investors\n",
      "2024-04-16 23:50:08,603 - INFO - Title not found\n",
      "2024-04-16 23:50:08,759 - INFO - NDIS Registered Disability Support Provider Hireup Hireup\n",
      "2024-04-16 23:50:08,850 - INFO - 3INA Cruelty Free Makeup Home 3INA Makeup Global\n",
      "2024-04-16 23:50:09,021 - INFO - Airwallex Trusted Global Payments Financial Platform\n",
      "2024-04-16 23:50:09,064 - INFO - Online Ordering System for Takeaways OrderYOYO Home\n",
      "2024-04-16 23:50:09,106 - INFO - Monica Vinader Women s Jewellery\n",
      "2024-04-16 23:50:09,166 - INFO - AHAVA Dead Sea Mineral Skincare Products AHAVA USA\n",
      "2024-04-16 23:50:09,250 - INFO - Alo Yoga Yoga leggings clothes and accessories for studio to street\n",
      "2024-04-16 23:50:09,354 - INFO - FireArc Multi Platform Ecosystem\n",
      "2024-04-16 23:50:09,514 - INFO - Title not found\n",
      "2024-04-16 23:50:09,698 - INFO - Professional Hair Color at Home from Madison Reed\n",
      "2024-04-16 23:50:10,069 - INFO - Sustainable Cultivated Meat Steak Done Right Aleph Farms\n"
     ]
    }
   ],
   "source": [
    "pdf = pd.read_csv('private_companies.csv')\n",
    "\n",
    "# Initialize an empty list to store dictionaries\n",
    "results = []\n",
    "\n",
    "# Process the rows asynchronously using ThreadPoolExecutor\n",
    "with concurrent.futures.ThreadPoolExecutor() as executor:\n",
    "    # Map the process_row function to each row in the DataFrame\n",
    "    futures = executor.map(process_row, pdf.to_dict(orient='records'))\n",
    "\n",
    "    # Iterate through results\n",
    "    for future in futures:\n",
    "        if future:\n",
    "            results.append(future)\n"
   ]
  },
  {
   "cell_type": "code",
   "execution_count": 6,
   "metadata": {},
   "outputs": [
    {
     "name": "stdout",
     "output_type": "stream",
     "text": [
      "Fetching company features\n",
      "Fetching company features\n"
     ]
    },
    {
     "name": "stderr",
     "output_type": "stream",
     "text": [
      " 88%|████████▊ | 23/26 [00:11<00:01,  2.46it/s]"
     ]
    }
   ],
   "source": [
    "from tqdm import tqdm\n",
    "import os\n",
    "from generate_features import get_company_features_guidance\n",
    "from models import init_model\n",
    "\n",
    "llm = init_model()\n",
    "\n",
    "print(\"Fetching company features\")\n",
    "# Check if the JSON file already exists\n",
    "if os.path.exists('private_companies_feature_engineering.json'):\n",
    "    with open('private_companies_feature_engineering.json', 'r') as f:\n",
    "        results = json.load(f)\n",
    "else:\n",
    "    llm = init_model()\n",
    "\n",
    "    print(\"Fetching company features\")\n",
    "    for idx in tqdm(range(len(results))):\n",
    "        \n",
    "        meta_title = results[idx].get('title', None)\n",
    "        meta_description = results[idx].get('description', None)\n",
    "        website_body = results[idx].get('body', None)\n",
    "\n",
    "        company_features = get_company_features_guidance(llm,\n",
    "                                                 comp_name=results[idx]['name'], \n",
    "                                                 comp_ticker=results[idx]['ticker'], \n",
    "                                                 comp_hq=results[idx]['hq'], \n",
    "                                                 meta_title=meta_title,\n",
    "                                                 meta_description=meta_description,\n",
    "                                                 website_body=website_body)\n",
    "\n",
    "        results[idx]['value_proposition'] = company_features.get('value_proposition', 'Not Found')\n",
    "        results[idx]['industry'] = company_features.get('industry', 'Not Found')\n",
    "        results[idx]['vertical'] = company_features.get('vertical', 'Not Found')\n",
    "        results[idx]['target_audience'] = company_features.get('target_audience', 'Not Found')\n",
    "        results[idx]['market'] = company_features.get('market', 'Not Found')\n",
    "\n",
    "        if idx % 5 == 0:\n",
    "            with open('private_companies_feature_engineering.json', 'w') as f:\n",
    "                json.dump(results, f, ensure_ascii=False)"
   ]
  },
  {
   "cell_type": "code",
   "execution_count": null,
   "metadata": {},
   "outputs": [
    {
     "data": {
      "text/html": [
       "<div>\n",
       "<style scoped>\n",
       "    .dataframe tbody tr th:only-of-type {\n",
       "        vertical-align: middle;\n",
       "    }\n",
       "\n",
       "    .dataframe tbody tr th {\n",
       "        vertical-align: top;\n",
       "    }\n",
       "\n",
       "    .dataframe thead th {\n",
       "        text-align: right;\n",
       "    }\n",
       "</style>\n",
       "<table border=\"1\" class=\"dataframe\">\n",
       "  <thead>\n",
       "    <tr style=\"text-align: right;\">\n",
       "      <th></th>\n",
       "      <th>Company Name</th>\n",
       "      <th>Company Headquarter</th>\n",
       "      <th>Company Value Proposition</th>\n",
       "      <th>Company Industry</th>\n",
       "      <th>Company Vertical</th>\n",
       "      <th>Company Target Audience</th>\n",
       "      <th>Company Market</th>\n",
       "    </tr>\n",
       "  </thead>\n",
       "  <tbody>\n",
       "    <tr>\n",
       "      <th>0</th>\n",
       "      <td>Voyantis</td>\n",
       "      <td>Israel</td>\n",
       "      <td>Voyantis helps marketing teams increase ad con...</td>\n",
       "      <td>Software</td>\n",
       "      <td>SaaS</td>\n",
       "      <td>marketing teams</td>\n",
       "      <td>B2B</td>\n",
       "    </tr>\n",
       "    <tr>\n",
       "      <th>1</th>\n",
       "      <td>Rapyd Financial Network (2016) Ltd.</td>\n",
       "      <td>Israel</td>\n",
       "      <td>Rapyd Financial Network helps businesses strea...</td>\n",
       "      <td>Finance</td>\n",
       "      <td>FinTech</td>\n",
       "      <td>c-levels</td>\n",
       "      <td>B2B</td>\n",
       "    </tr>\n",
       "    <tr>\n",
       "      <th>2</th>\n",
       "      <td>Utopia Music AG</td>\n",
       "      <td>Switzerland</td>\n",
       "      <td>Utopia Music helps artists, labels, and music ...</td>\n",
       "      <td>Entertainment</td>\n",
       "      <td>SaaS</td>\n",
       "      <td>c-levels</td>\n",
       "      <td>B2B</td>\n",
       "    </tr>\n",
       "    <tr>\n",
       "      <th>3</th>\n",
       "      <td>Pragmatic Play Ltd.</td>\n",
       "      <td>Malta</td>\n",
       "      <td>Pragmatic Play Ltd. helps online gaming platfo...</td>\n",
       "      <td>Entertainment</td>\n",
       "      <td>OTHER</td>\n",
       "      <td>consumers</td>\n",
       "      <td>B2B</td>\n",
       "    </tr>\n",
       "    <tr>\n",
       "      <th>4</th>\n",
       "      <td>K Health Inc.</td>\n",
       "      <td>USA</td>\n",
       "      <td>K Health helps individuals access high-quality...</td>\n",
       "      <td>Health Care</td>\n",
       "      <td>HealthTech</td>\n",
       "      <td>consumers</td>\n",
       "      <td>B2C</td>\n",
       "    </tr>\n",
       "    <tr>\n",
       "      <th>5</th>\n",
       "      <td>FireArc, Ltd.</td>\n",
       "      <td>Israel</td>\n",
       "      <td>FireArc helps digital properties enhance user ...</td>\n",
       "      <td>Advertisements</td>\n",
       "      <td>OTHER</td>\n",
       "      <td>marketing teams</td>\n",
       "      <td>B2B</td>\n",
       "    </tr>\n",
       "    <tr>\n",
       "      <th>6</th>\n",
       "      <td>5.11, Inc.</td>\n",
       "      <td>USA</td>\n",
       "      <td>5.11, Inc. helps professionals and outdoor ent...</td>\n",
       "      <td>Consumer Goods</td>\n",
       "      <td>Ecommerce</td>\n",
       "      <td>consumers</td>\n",
       "      <td>B2C</td>\n",
       "    </tr>\n",
       "    <tr>\n",
       "      <th>7</th>\n",
       "      <td>Ahava-Dead Sea Laboratories Ltd.</td>\n",
       "      <td>Israel</td>\n",
       "      <td>Ahava-Dead Sea Laboratories Ltd. helps consume...</td>\n",
       "      <td>Consumer Goods</td>\n",
       "      <td>Ecommerce</td>\n",
       "      <td>consumers</td>\n",
       "      <td>B2C</td>\n",
       "    </tr>\n",
       "    <tr>\n",
       "      <th>8</th>\n",
       "      <td>Amagi Media Labs Private Limited</td>\n",
       "      <td>India</td>\n",
       "      <td>Amagi Media Labs Private Limited helps broadca...</td>\n",
       "      <td>Media &amp; Communications</td>\n",
       "      <td>SaaS</td>\n",
       "      <td>c-levels</td>\n",
       "      <td>B2B</td>\n",
       "    </tr>\n",
       "    <tr>\n",
       "      <th>9</th>\n",
       "      <td>Miya Water Spain SL</td>\n",
       "      <td>Spain</td>\n",
       "      <td>Miya Water Spain SL helps governments and busi...</td>\n",
       "      <td>Other</td>\n",
       "      <td>OTHER</td>\n",
       "      <td>c-levels</td>\n",
       "      <td>B2B</td>\n",
       "    </tr>\n",
       "    <tr>\n",
       "      <th>10</th>\n",
       "      <td>Monica Vinader Ltd</td>\n",
       "      <td>United Kingdom</td>\n",
       "      <td>Monica Vinader Ltd helps consumers accessorize...</td>\n",
       "      <td>Consumer Goods</td>\n",
       "      <td>Ecommerce</td>\n",
       "      <td>consumers</td>\n",
       "      <td>B2C</td>\n",
       "    </tr>\n",
       "    <tr>\n",
       "      <th>11</th>\n",
       "      <td>SumUp Payments Limited</td>\n",
       "      <td>United Kingdom</td>\n",
       "      <td>SumUp helps small businesses streamline their ...</td>\n",
       "      <td>Finance</td>\n",
       "      <td>FinTech</td>\n",
       "      <td>consumers</td>\n",
       "      <td>B2C</td>\n",
       "    </tr>\n",
       "    <tr>\n",
       "      <th>12</th>\n",
       "      <td>Hireup Pty Ltd</td>\n",
       "      <td>Australia</td>\n",
       "      <td>Hireup helps individuals with disabilities fin...</td>\n",
       "      <td>Health Care</td>\n",
       "      <td>HealthTech</td>\n",
       "      <td>consumers</td>\n",
       "      <td>B2C</td>\n",
       "    </tr>\n",
       "    <tr>\n",
       "      <th>13</th>\n",
       "      <td>Madison Reed, Inc.</td>\n",
       "      <td>USA</td>\n",
       "      <td>Madison Reed helps consumers achieve salon-qua...</td>\n",
       "      <td>Consumer Goods</td>\n",
       "      <td>Ecommerce</td>\n",
       "      <td>consumers</td>\n",
       "      <td>B2C</td>\n",
       "    </tr>\n",
       "    <tr>\n",
       "      <th>14</th>\n",
       "      <td>Moon Active Ltd.</td>\n",
       "      <td>Israel</td>\n",
       "      <td>Moon Active helps consumers enjoy engaging and...</td>\n",
       "      <td>Entertainment</td>\n",
       "      <td>OTHER</td>\n",
       "      <td>consumers</td>\n",
       "      <td>B2C</td>\n",
       "    </tr>\n",
       "    <tr>\n",
       "      <th>15</th>\n",
       "      <td>Vuori, Inc.</td>\n",
       "      <td>USA</td>\n",
       "      <td>Vuori helps active individuals enhance their p...</td>\n",
       "      <td>Consumer Goods</td>\n",
       "      <td>Ecommerce</td>\n",
       "      <td>consumers</td>\n",
       "      <td>B2C</td>\n",
       "    </tr>\n",
       "    <tr>\n",
       "      <th>16</th>\n",
       "      <td>Alo, LLC</td>\n",
       "      <td>USA</td>\n",
       "      <td>Alo Yoga helps wellness and fitness enthusiast...</td>\n",
       "      <td>Consumer Goods</td>\n",
       "      <td>Ecommerce</td>\n",
       "      <td>consumers</td>\n",
       "      <td>B2C</td>\n",
       "    </tr>\n",
       "    <tr>\n",
       "      <th>17</th>\n",
       "      <td>OrderYOYO A/S</td>\n",
       "      <td>Denmark</td>\n",
       "      <td>OrderYOYO helps local takeaway restaurants inc...</td>\n",
       "      <td>Software</td>\n",
       "      <td>SaaS</td>\n",
       "      <td>consumers</td>\n",
       "      <td>B2B</td>\n",
       "    </tr>\n",
       "    <tr>\n",
       "      <th>18</th>\n",
       "      <td>Airwallex Pty Ltd</td>\n",
       "      <td>Australia</td>\n",
       "      <td>Airwallex helps businesses streamline their fi...</td>\n",
       "      <td>Finance</td>\n",
       "      <td>FinTech</td>\n",
       "      <td>c-levels</td>\n",
       "      <td>B2B</td>\n",
       "    </tr>\n",
       "    <tr>\n",
       "      <th>19</th>\n",
       "      <td>FrontStory</td>\n",
       "      <td>Israel</td>\n",
       "      <td>FrontStory helps publishers maximize revenue a...</td>\n",
       "      <td>Media &amp; Communications</td>\n",
       "      <td>TMT</td>\n",
       "      <td>publishers</td>\n",
       "      <td>B2B</td>\n",
       "    </tr>\n",
       "    <tr>\n",
       "      <th>20</th>\n",
       "      <td>Meesho, Inc.</td>\n",
       "      <td>India</td>\n",
       "      <td>Meesho helps small businesses and individual e...</td>\n",
       "      <td>Consumer Goods</td>\n",
       "      <td>Ecommerce</td>\n",
       "      <td>consumers</td>\n",
       "      <td>B2C</td>\n",
       "    </tr>\n",
       "    <tr>\n",
       "      <th>21</th>\n",
       "      <td>3INA Cosmetics, SL</td>\n",
       "      <td>Spain</td>\n",
       "      <td>3INA Cosmetics helps beauty enthusiasts embrac...</td>\n",
       "      <td>Consumer Goods</td>\n",
       "      <td>Ecommerce</td>\n",
       "      <td>consumers</td>\n",
       "      <td>B2C</td>\n",
       "    </tr>\n",
       "    <tr>\n",
       "      <th>22</th>\n",
       "      <td>Artlist Ltd.</td>\n",
       "      <td>Israel</td>\n",
       "      <td>Artlist Ltd. helps content creators enhance th...</td>\n",
       "      <td>Arts</td>\n",
       "      <td>OTHER</td>\n",
       "      <td>consumers</td>\n",
       "      <td>B2C</td>\n",
       "    </tr>\n",
       "    <tr>\n",
       "      <th>23</th>\n",
       "      <td>Koyfin, Inc.</td>\n",
       "      <td>USA</td>\n",
       "      <td>Koyfin helps investors analyze financial marke...</td>\n",
       "      <td>Finance</td>\n",
       "      <td>FinTech</td>\n",
       "      <td>investors</td>\n",
       "      <td>B2C</td>\n",
       "    </tr>\n",
       "    <tr>\n",
       "      <th>24</th>\n",
       "      <td>Remilk Ltd</td>\n",
       "      <td>Israel</td>\n",
       "      <td>Remilk helps consumers enjoy real dairy produc...</td>\n",
       "      <td>Consumer Goods</td>\n",
       "      <td>OTHER</td>\n",
       "      <td>consumers</td>\n",
       "      <td>B2C</td>\n",
       "    </tr>\n",
       "    <tr>\n",
       "      <th>25</th>\n",
       "      <td>Aleph Farms Limited</td>\n",
       "      <td>Israel</td>\n",
       "      <td>Aleph Farms helps consumers enjoy sustainably ...</td>\n",
       "      <td>Consumer Goods</td>\n",
       "      <td>DeepTech</td>\n",
       "      <td>consumers</td>\n",
       "      <td>B2C</td>\n",
       "    </tr>\n",
       "  </tbody>\n",
       "</table>\n",
       "</div>"
      ],
      "text/plain": [
       "                           Company Name Company Headquarter  \\\n",
       "0                              Voyantis              Israel   \n",
       "1   Rapyd Financial Network (2016) Ltd.              Israel   \n",
       "2                       Utopia Music AG         Switzerland   \n",
       "3                   Pragmatic Play Ltd.               Malta   \n",
       "4                         K Health Inc.                 USA   \n",
       "5                         FireArc, Ltd.              Israel   \n",
       "6                            5.11, Inc.                 USA   \n",
       "7      Ahava-Dead Sea Laboratories Ltd.              Israel   \n",
       "8      Amagi Media Labs Private Limited               India   \n",
       "9                   Miya Water Spain SL               Spain   \n",
       "10                   Monica Vinader Ltd      United Kingdom   \n",
       "11               SumUp Payments Limited      United Kingdom   \n",
       "12                       Hireup Pty Ltd           Australia   \n",
       "13                   Madison Reed, Inc.                 USA   \n",
       "14                     Moon Active Ltd.              Israel   \n",
       "15                          Vuori, Inc.                 USA   \n",
       "16                             Alo, LLC                 USA   \n",
       "17                        OrderYOYO A/S             Denmark   \n",
       "18                    Airwallex Pty Ltd           Australia   \n",
       "19                           FrontStory              Israel   \n",
       "20                         Meesho, Inc.               India   \n",
       "21                   3INA Cosmetics, SL               Spain   \n",
       "22                         Artlist Ltd.              Israel   \n",
       "23                         Koyfin, Inc.                 USA   \n",
       "24                           Remilk Ltd              Israel   \n",
       "25                  Aleph Farms Limited              Israel   \n",
       "\n",
       "                            Company Value Proposition        Company Industry  \\\n",
       "0   Voyantis helps marketing teams increase ad con...                Software   \n",
       "1   Rapyd Financial Network helps businesses strea...                 Finance   \n",
       "2   Utopia Music helps artists, labels, and music ...           Entertainment   \n",
       "3   Pragmatic Play Ltd. helps online gaming platfo...           Entertainment   \n",
       "4   K Health helps individuals access high-quality...             Health Care   \n",
       "5   FireArc helps digital properties enhance user ...          Advertisements   \n",
       "6   5.11, Inc. helps professionals and outdoor ent...          Consumer Goods   \n",
       "7   Ahava-Dead Sea Laboratories Ltd. helps consume...          Consumer Goods   \n",
       "8   Amagi Media Labs Private Limited helps broadca...  Media & Communications   \n",
       "9   Miya Water Spain SL helps governments and busi...                   Other   \n",
       "10  Monica Vinader Ltd helps consumers accessorize...          Consumer Goods   \n",
       "11  SumUp helps small businesses streamline their ...                 Finance   \n",
       "12  Hireup helps individuals with disabilities fin...             Health Care   \n",
       "13  Madison Reed helps consumers achieve salon-qua...          Consumer Goods   \n",
       "14  Moon Active helps consumers enjoy engaging and...           Entertainment   \n",
       "15  Vuori helps active individuals enhance their p...          Consumer Goods   \n",
       "16  Alo Yoga helps wellness and fitness enthusiast...          Consumer Goods   \n",
       "17  OrderYOYO helps local takeaway restaurants inc...                Software   \n",
       "18  Airwallex helps businesses streamline their fi...                 Finance   \n",
       "19  FrontStory helps publishers maximize revenue a...  Media & Communications   \n",
       "20  Meesho helps small businesses and individual e...          Consumer Goods   \n",
       "21  3INA Cosmetics helps beauty enthusiasts embrac...          Consumer Goods   \n",
       "22  Artlist Ltd. helps content creators enhance th...                    Arts   \n",
       "23  Koyfin helps investors analyze financial marke...                 Finance   \n",
       "24  Remilk helps consumers enjoy real dairy produc...          Consumer Goods   \n",
       "25  Aleph Farms helps consumers enjoy sustainably ...          Consumer Goods   \n",
       "\n",
       "   Company Vertical Company Target Audience Company Market  \n",
       "0              SaaS         marketing teams            B2B  \n",
       "1           FinTech                c-levels            B2B  \n",
       "2              SaaS                c-levels            B2B  \n",
       "3             OTHER               consumers            B2B  \n",
       "4        HealthTech               consumers            B2C  \n",
       "5             OTHER         marketing teams            B2B  \n",
       "6         Ecommerce               consumers            B2C  \n",
       "7         Ecommerce               consumers            B2C  \n",
       "8              SaaS                c-levels            B2B  \n",
       "9             OTHER                c-levels            B2B  \n",
       "10        Ecommerce               consumers            B2C  \n",
       "11          FinTech               consumers            B2C  \n",
       "12       HealthTech               consumers            B2C  \n",
       "13        Ecommerce               consumers            B2C  \n",
       "14            OTHER               consumers            B2C  \n",
       "15        Ecommerce               consumers            B2C  \n",
       "16        Ecommerce               consumers            B2C  \n",
       "17             SaaS               consumers            B2B  \n",
       "18          FinTech                c-levels            B2B  \n",
       "19              TMT              publishers            B2B  \n",
       "20        Ecommerce               consumers            B2C  \n",
       "21        Ecommerce               consumers            B2C  \n",
       "22            OTHER               consumers            B2C  \n",
       "23          FinTech               investors            B2C  \n",
       "24            OTHER               consumers            B2C  \n",
       "25         DeepTech               consumers            B2C  "
      ]
     },
     "metadata": {},
     "output_type": "display_data"
    }
   ],
   "source": [
    "# Initialize an empty list to store DataFrames\n",
    "dfs = []\n",
    "\n",
    "# Loop through the results\n",
    "for idx, result in enumerate(results):\n",
    "    # Create a DataFrame for the current result\n",
    "    tdf = pd.DataFrame({\n",
    "        'Company Name': [result['name']],\n",
    "        'Company Headquarter': [result['hq']],\n",
    "        'Company Value Proposition': [result['value_proposition']],\n",
    "        'Company Industry': [result['industry']],\n",
    "        'Company Vertical': [result['vertical']],\n",
    "        'Company Target Audience': [result['target_audience']],\n",
    "        'Company Market': [result['market']]\n",
    "    })\n",
    "    \n",
    "    # Append the DataFrame to the list\n",
    "    dfs.append(tdf)\n",
    "\n",
    "# Concatenate all DataFrames in the list along the rows\n",
    "inference_df = pd.concat(dfs, ignore_index=True)\n",
    "\n",
    "# Display the DataFrame\n",
    "display(inference_df)\n"
   ]
  },
  {
   "cell_type": "code",
   "execution_count": null,
   "metadata": {},
   "outputs": [
    {
     "name": "stderr",
     "output_type": "stream",
     "text": [
      "/home/gagan/Documents/data_science/david_chull/.venv/lib/python3.10/site-packages/tqdm/auto.py:21: TqdmWarning: IProgress not found. Please update jupyter and ipywidgets. See https://ipywidgets.readthedocs.io/en/stable/user_install.html\n",
      "  from .autonotebook import tqdm as notebook_tqdm\n"
     ]
    }
   ],
   "source": [
    "from fetch_comparables import find_similar_companies\n"
   ]
  },
  {
   "cell_type": "code",
   "execution_count": null,
   "metadata": {},
   "outputs": [
    {
     "name": "stderr",
     "output_type": "stream",
     "text": [
      "2024-04-16 23:47:52,378 - INFO - Load pretrained SentenceTransformer: bert-base-uncased\n",
      "2024-04-16 23:47:53,174 - WARNING - No sentence-transformers model found with name bert-base-uncased. Creating a new one with MEAN pooling.\n",
      "2024-04-16 23:47:54,246 - INFO - Use pytorch device_name: cpu\n",
      "Batches: 100%|██████████| 1/1 [00:00<00:00,  2.53it/s]\n",
      "100%|██████████| 1/1 [00:00<00:00,  2.49it/s]\n",
      "2024-04-16 23:47:56,663 - INFO - Load pretrained SentenceTransformer: bert-base-uncased\n"
     ]
    },
    {
     "name": "stdout",
     "output_type": "stream",
     "text": [
      "SaaS\n",
      "Israel\n"
     ]
    },
    {
     "name": "stderr",
     "output_type": "stream",
     "text": [
      "2024-04-16 23:47:57,303 - WARNING - No sentence-transformers model found with name bert-base-uncased. Creating a new one with MEAN pooling.\n",
      "2024-04-16 23:47:58,423 - INFO - Use pytorch device_name: cpu\n",
      "Batches: 100%|██████████| 1/1 [00:00<00:00, 14.95it/s]\n",
      "100%|██████████| 1/1 [00:00<00:00, 13.74it/s]\n",
      "2024-04-16 23:48:00,524 - INFO - Load pretrained SentenceTransformer: bert-base-uncased\n"
     ]
    },
    {
     "name": "stdout",
     "output_type": "stream",
     "text": [
      "FinTech\n",
      "Israel\n"
     ]
    },
    {
     "name": "stderr",
     "output_type": "stream",
     "text": [
      "2024-04-16 23:48:00,772 - WARNING - No sentence-transformers model found with name bert-base-uncased. Creating a new one with MEAN pooling.\n",
      "2024-04-16 23:48:01,442 - INFO - Use pytorch device_name: cpu\n",
      "Batches: 100%|██████████| 1/1 [00:00<00:00, 12.54it/s]\n",
      "100%|██████████| 1/1 [00:00<00:00, 11.61it/s]\n",
      "2024-04-16 23:48:03,442 - INFO - Load pretrained SentenceTransformer: bert-base-uncased\n"
     ]
    },
    {
     "name": "stdout",
     "output_type": "stream",
     "text": [
      "SaaS\n",
      "Switzerland\n"
     ]
    },
    {
     "name": "stderr",
     "output_type": "stream",
     "text": [
      "2024-04-16 23:48:03,686 - WARNING - No sentence-transformers model found with name bert-base-uncased. Creating a new one with MEAN pooling.\n",
      "2024-04-16 23:48:04,335 - INFO - Use pytorch device_name: cpu\n",
      "Batches: 100%|██████████| 1/1 [00:00<00:00, 15.06it/s]\n",
      "100%|██████████| 1/1 [00:00<00:00, 14.08it/s]\n",
      "2024-04-16 23:48:06,504 - INFO - Load pretrained SentenceTransformer: bert-base-uncased\n"
     ]
    },
    {
     "name": "stdout",
     "output_type": "stream",
     "text": [
      "OTHER\n",
      "Malta\n"
     ]
    },
    {
     "name": "stderr",
     "output_type": "stream",
     "text": [
      "2024-04-16 23:48:06,792 - WARNING - No sentence-transformers model found with name bert-base-uncased. Creating a new one with MEAN pooling.\n",
      "2024-04-16 23:48:07,425 - INFO - Use pytorch device_name: cpu\n",
      "Batches: 100%|██████████| 1/1 [00:00<00:00, 15.87it/s]\n",
      "100%|██████████| 1/1 [00:00<00:00, 14.94it/s]\n",
      "2024-04-16 23:48:09,589 - INFO - Load pretrained SentenceTransformer: bert-base-uncased\n"
     ]
    },
    {
     "name": "stdout",
     "output_type": "stream",
     "text": [
      "HealthTech\n",
      "USA\n"
     ]
    },
    {
     "name": "stderr",
     "output_type": "stream",
     "text": [
      "2024-04-16 23:48:09,863 - WARNING - No sentence-transformers model found with name bert-base-uncased. Creating a new one with MEAN pooling.\n",
      "2024-04-16 23:48:10,601 - INFO - Use pytorch device_name: cpu\n",
      "Batches: 100%|██████████| 1/1 [00:00<00:00, 13.24it/s]\n",
      "100%|██████████| 1/1 [00:00<00:00, 12.24it/s]\n",
      "2024-04-16 23:48:12,738 - INFO - Load pretrained SentenceTransformer: bert-base-uncased\n"
     ]
    },
    {
     "name": "stdout",
     "output_type": "stream",
     "text": [
      "OTHER\n",
      "Israel\n"
     ]
    },
    {
     "name": "stderr",
     "output_type": "stream",
     "text": [
      "2024-04-16 23:48:13,037 - WARNING - No sentence-transformers model found with name bert-base-uncased. Creating a new one with MEAN pooling.\n",
      "2024-04-16 23:48:13,771 - INFO - Use pytorch device_name: cpu\n",
      "Batches: 100%|██████████| 1/1 [00:00<00:00, 15.52it/s]\n",
      "100%|██████████| 1/1 [00:00<00:00, 14.65it/s]\n",
      "2024-04-16 23:48:15,968 - INFO - Load pretrained SentenceTransformer: bert-base-uncased\n"
     ]
    },
    {
     "name": "stdout",
     "output_type": "stream",
     "text": [
      "Ecommerce\n",
      "USA\n"
     ]
    },
    {
     "name": "stderr",
     "output_type": "stream",
     "text": [
      "2024-04-16 23:48:16,316 - WARNING - No sentence-transformers model found with name bert-base-uncased. Creating a new one with MEAN pooling.\n",
      "2024-04-16 23:48:17,050 - INFO - Use pytorch device_name: cpu\n",
      "Batches: 100%|██████████| 1/1 [00:00<00:00, 14.96it/s]\n",
      "100%|██████████| 1/1 [00:00<00:00, 14.03it/s]\n",
      "2024-04-16 23:48:19,093 - INFO - Load pretrained SentenceTransformer: bert-base-uncased\n"
     ]
    },
    {
     "name": "stdout",
     "output_type": "stream",
     "text": [
      "Ecommerce\n",
      "Israel\n"
     ]
    },
    {
     "name": "stderr",
     "output_type": "stream",
     "text": [
      "2024-04-16 23:48:19,347 - WARNING - No sentence-transformers model found with name bert-base-uncased. Creating a new one with MEAN pooling.\n",
      "2024-04-16 23:48:20,257 - INFO - Use pytorch device_name: cpu\n",
      "Batches: 100%|██████████| 1/1 [00:00<00:00, 16.47it/s]\n",
      "100%|██████████| 1/1 [00:00<00:00, 15.24it/s]\n",
      "2024-04-16 23:48:22,376 - INFO - Load pretrained SentenceTransformer: bert-base-uncased\n"
     ]
    },
    {
     "name": "stdout",
     "output_type": "stream",
     "text": [
      "SaaS\n",
      "India\n"
     ]
    },
    {
     "name": "stderr",
     "output_type": "stream",
     "text": [
      "2024-04-16 23:48:22,707 - WARNING - No sentence-transformers model found with name bert-base-uncased. Creating a new one with MEAN pooling.\n",
      "2024-04-16 23:48:23,554 - INFO - Use pytorch device_name: cpu\n",
      "Batches: 100%|██████████| 1/1 [00:00<00:00, 14.49it/s]\n",
      "100%|██████████| 1/1 [00:00<00:00, 13.57it/s]\n",
      "2024-04-16 23:48:25,713 - INFO - Load pretrained SentenceTransformer: bert-base-uncased\n"
     ]
    },
    {
     "name": "stdout",
     "output_type": "stream",
     "text": [
      "OTHER\n",
      "Spain\n"
     ]
    },
    {
     "name": "stderr",
     "output_type": "stream",
     "text": [
      "2024-04-16 23:48:25,969 - WARNING - No sentence-transformers model found with name bert-base-uncased. Creating a new one with MEAN pooling.\n",
      "2024-04-16 23:48:26,674 - INFO - Use pytorch device_name: cpu\n",
      "Batches: 100%|██████████| 1/1 [00:00<00:00, 15.23it/s]\n",
      "100%|██████████| 1/1 [00:00<00:00, 14.23it/s]\n",
      "2024-04-16 23:48:28,615 - INFO - Load pretrained SentenceTransformer: bert-base-uncased\n"
     ]
    },
    {
     "name": "stdout",
     "output_type": "stream",
     "text": [
      "Ecommerce\n",
      "United Kingdom\n"
     ]
    },
    {
     "name": "stderr",
     "output_type": "stream",
     "text": [
      "2024-04-16 23:48:28,910 - WARNING - No sentence-transformers model found with name bert-base-uncased. Creating a new one with MEAN pooling.\n",
      "2024-04-16 23:48:29,712 - INFO - Use pytorch device_name: cpu\n",
      "Batches: 100%|██████████| 1/1 [00:00<00:00, 14.67it/s]\n",
      "100%|██████████| 1/1 [00:00<00:00, 13.76it/s]\n",
      "2024-04-16 23:48:31,683 - INFO - Load pretrained SentenceTransformer: bert-base-uncased\n"
     ]
    },
    {
     "name": "stdout",
     "output_type": "stream",
     "text": [
      "FinTech\n",
      "United Kingdom\n"
     ]
    },
    {
     "name": "stderr",
     "output_type": "stream",
     "text": [
      "2024-04-16 23:48:31,909 - WARNING - No sentence-transformers model found with name bert-base-uncased. Creating a new one with MEAN pooling.\n",
      "2024-04-16 23:48:32,613 - INFO - Use pytorch device_name: cpu\n",
      "Batches: 100%|██████████| 1/1 [00:00<00:00, 14.84it/s]\n",
      "100%|██████████| 1/1 [00:00<00:00, 13.76it/s]\n",
      "2024-04-16 23:48:34,583 - INFO - Load pretrained SentenceTransformer: bert-base-uncased\n"
     ]
    },
    {
     "name": "stdout",
     "output_type": "stream",
     "text": [
      "HealthTech\n",
      "Australia\n"
     ]
    },
    {
     "name": "stderr",
     "output_type": "stream",
     "text": [
      "2024-04-16 23:48:34,812 - WARNING - No sentence-transformers model found with name bert-base-uncased. Creating a new one with MEAN pooling.\n",
      "2024-04-16 23:48:35,479 - INFO - Use pytorch device_name: cpu\n",
      "Batches: 100%|██████████| 1/1 [00:00<00:00, 14.65it/s]\n",
      "100%|██████████| 1/1 [00:00<00:00, 13.65it/s]\n",
      "2024-04-16 23:48:37,583 - INFO - Load pretrained SentenceTransformer: bert-base-uncased\n"
     ]
    },
    {
     "name": "stdout",
     "output_type": "stream",
     "text": [
      "Ecommerce\n",
      "USA\n"
     ]
    },
    {
     "name": "stderr",
     "output_type": "stream",
     "text": [
      "2024-04-16 23:48:37,921 - WARNING - No sentence-transformers model found with name bert-base-uncased. Creating a new one with MEAN pooling.\n",
      "2024-04-16 23:48:39,072 - INFO - Use pytorch device_name: cpu\n",
      "Batches: 100%|██████████| 1/1 [00:00<00:00, 16.22it/s]\n",
      "100%|██████████| 1/1 [00:00<00:00, 15.30it/s]\n",
      "2024-04-16 23:48:41,002 - INFO - Load pretrained SentenceTransformer: bert-base-uncased\n"
     ]
    },
    {
     "name": "stdout",
     "output_type": "stream",
     "text": [
      "OTHER\n",
      "Israel\n"
     ]
    },
    {
     "name": "stderr",
     "output_type": "stream",
     "text": [
      "2024-04-16 23:48:41,301 - WARNING - No sentence-transformers model found with name bert-base-uncased. Creating a new one with MEAN pooling.\n",
      "2024-04-16 23:48:42,035 - INFO - Use pytorch device_name: cpu\n",
      "Batches: 100%|██████████| 1/1 [00:00<00:00, 18.62it/s]\n",
      "100%|██████████| 1/1 [00:00<00:00, 17.23it/s]\n",
      "2024-04-16 23:48:44,010 - INFO - Load pretrained SentenceTransformer: bert-base-uncased\n"
     ]
    },
    {
     "name": "stdout",
     "output_type": "stream",
     "text": [
      "Ecommerce\n",
      "USA\n"
     ]
    },
    {
     "name": "stderr",
     "output_type": "stream",
     "text": [
      "2024-04-16 23:48:44,271 - WARNING - No sentence-transformers model found with name bert-base-uncased. Creating a new one with MEAN pooling.\n",
      "2024-04-16 23:48:45,223 - INFO - Use pytorch device_name: cpu\n",
      "Batches: 100%|██████████| 1/1 [00:00<00:00, 18.30it/s]\n",
      "100%|██████████| 1/1 [00:00<00:00, 17.06it/s]\n",
      "2024-04-16 23:48:47,315 - INFO - Load pretrained SentenceTransformer: bert-base-uncased\n"
     ]
    },
    {
     "name": "stdout",
     "output_type": "stream",
     "text": [
      "Ecommerce\n",
      "USA\n"
     ]
    },
    {
     "name": "stderr",
     "output_type": "stream",
     "text": [
      "2024-04-16 23:48:47,621 - WARNING - No sentence-transformers model found with name bert-base-uncased. Creating a new one with MEAN pooling.\n",
      "2024-04-16 23:48:48,282 - INFO - Use pytorch device_name: cpu\n",
      "Batches: 100%|██████████| 1/1 [00:00<00:00, 17.77it/s]\n",
      "100%|██████████| 1/1 [00:00<00:00, 16.62it/s]\n",
      "2024-04-16 23:48:50,306 - INFO - Load pretrained SentenceTransformer: bert-base-uncased\n"
     ]
    },
    {
     "name": "stdout",
     "output_type": "stream",
     "text": [
      "SaaS\n",
      "Denmark\n"
     ]
    },
    {
     "name": "stderr",
     "output_type": "stream",
     "text": [
      "2024-04-16 23:48:50,619 - WARNING - No sentence-transformers model found with name bert-base-uncased. Creating a new one with MEAN pooling.\n",
      "2024-04-16 23:48:51,351 - INFO - Use pytorch device_name: cpu\n",
      "Batches: 100%|██████████| 1/1 [00:00<00:00, 13.41it/s]\n",
      "100%|██████████| 1/1 [00:00<00:00, 12.54it/s]\n",
      "2024-04-16 23:48:53,412 - INFO - Load pretrained SentenceTransformer: bert-base-uncased\n"
     ]
    },
    {
     "name": "stdout",
     "output_type": "stream",
     "text": [
      "FinTech\n",
      "Australia\n"
     ]
    },
    {
     "name": "stderr",
     "output_type": "stream",
     "text": [
      "2024-04-16 23:48:53,691 - WARNING - No sentence-transformers model found with name bert-base-uncased. Creating a new one with MEAN pooling.\n",
      "2024-04-16 23:48:54,525 - INFO - Use pytorch device_name: cpu\n",
      "Batches: 100%|██████████| 1/1 [00:00<00:00, 16.02it/s]\n",
      "100%|██████████| 1/1 [00:00<00:00, 14.75it/s]\n",
      "2024-04-16 23:48:56,539 - INFO - Load pretrained SentenceTransformer: bert-base-uncased\n"
     ]
    },
    {
     "name": "stdout",
     "output_type": "stream",
     "text": [
      "TMT\n",
      "Israel\n"
     ]
    },
    {
     "name": "stderr",
     "output_type": "stream",
     "text": [
      "2024-04-16 23:48:57,082 - WARNING - No sentence-transformers model found with name bert-base-uncased. Creating a new one with MEAN pooling.\n",
      "2024-04-16 23:48:58,127 - INFO - Use pytorch device_name: cpu\n",
      "Batches: 100%|██████████| 1/1 [00:00<00:00, 14.65it/s]\n",
      "100%|██████████| 1/1 [00:00<00:00, 13.59it/s]\n",
      "2024-04-16 23:49:00,266 - INFO - Load pretrained SentenceTransformer: bert-base-uncased\n"
     ]
    },
    {
     "name": "stdout",
     "output_type": "stream",
     "text": [
      "Ecommerce\n",
      "India\n"
     ]
    },
    {
     "name": "stderr",
     "output_type": "stream",
     "text": [
      "2024-04-16 23:49:00,553 - WARNING - No sentence-transformers model found with name bert-base-uncased. Creating a new one with MEAN pooling.\n",
      "2024-04-16 23:49:01,300 - INFO - Use pytorch device_name: cpu\n",
      "Batches: 100%|██████████| 1/1 [00:00<00:00, 14.69it/s]\n",
      "100%|██████████| 1/1 [00:00<00:00, 13.75it/s]\n",
      "2024-04-16 23:49:03,267 - INFO - Load pretrained SentenceTransformer: bert-base-uncased\n"
     ]
    },
    {
     "name": "stdout",
     "output_type": "stream",
     "text": [
      "Ecommerce\n",
      "Spain\n"
     ]
    },
    {
     "name": "stderr",
     "output_type": "stream",
     "text": [
      "2024-04-16 23:49:03,520 - WARNING - No sentence-transformers model found with name bert-base-uncased. Creating a new one with MEAN pooling.\n",
      "2024-04-16 23:49:04,368 - INFO - Use pytorch device_name: cpu\n",
      "Batches: 100%|██████████| 1/1 [00:00<00:00, 15.25it/s]\n",
      "100%|██████████| 1/1 [00:00<00:00, 14.30it/s]\n",
      "2024-04-16 23:49:06,274 - INFO - Load pretrained SentenceTransformer: bert-base-uncased\n"
     ]
    },
    {
     "name": "stdout",
     "output_type": "stream",
     "text": [
      "OTHER\n",
      "Israel\n"
     ]
    },
    {
     "name": "stderr",
     "output_type": "stream",
     "text": [
      "2024-04-16 23:49:06,518 - WARNING - No sentence-transformers model found with name bert-base-uncased. Creating a new one with MEAN pooling.\n",
      "2024-04-16 23:49:07,238 - INFO - Use pytorch device_name: cpu\n",
      "Batches: 100%|██████████| 1/1 [00:00<00:00, 16.27it/s]\n",
      "100%|██████████| 1/1 [00:00<00:00, 15.25it/s]\n",
      "2024-04-16 23:49:09,139 - INFO - Load pretrained SentenceTransformer: bert-base-uncased\n"
     ]
    },
    {
     "name": "stdout",
     "output_type": "stream",
     "text": [
      "FinTech\n",
      "USA\n"
     ]
    },
    {
     "name": "stderr",
     "output_type": "stream",
     "text": [
      "2024-04-16 23:49:09,373 - WARNING - No sentence-transformers model found with name bert-base-uncased. Creating a new one with MEAN pooling.\n",
      "2024-04-16 23:49:10,401 - INFO - Use pytorch device_name: cpu\n",
      "Batches: 100%|██████████| 1/1 [00:00<00:00,  9.46it/s]\n",
      "100%|██████████| 1/1 [00:00<00:00,  8.74it/s]\n",
      "2024-04-16 23:49:12,345 - INFO - Load pretrained SentenceTransformer: bert-base-uncased\n"
     ]
    },
    {
     "name": "stdout",
     "output_type": "stream",
     "text": [
      "OTHER\n",
      "Israel\n"
     ]
    },
    {
     "name": "stderr",
     "output_type": "stream",
     "text": [
      "2024-04-16 23:49:12,570 - WARNING - No sentence-transformers model found with name bert-base-uncased. Creating a new one with MEAN pooling.\n",
      "2024-04-16 23:49:13,280 - INFO - Use pytorch device_name: cpu\n",
      "Batches: 100%|██████████| 1/1 [00:00<00:00, 14.55it/s]\n",
      "100%|██████████| 1/1 [00:00<00:00, 13.62it/s]\n"
     ]
    },
    {
     "name": "stdout",
     "output_type": "stream",
     "text": [
      "DeepTech\n",
      "Israel\n"
     ]
    }
   ],
   "source": [
    "# Initialize an empty DataFrame to store the results\n",
    "all_competitors_df = pd.DataFrame()\n",
    "\n",
    "for idx in range(len(inference_df)):\n",
    "    # Extract relevant information for the current company\n",
    "    company_info = {\n",
    "        'Company Name': inference_df.loc[idx, 'Company Name'],\n",
    "        'Company Headquarter': inference_df.loc[idx, 'Company Headquarter'],\n",
    "        'Company Value Proposition': inference_df.loc[idx, 'Company Value Proposition'],\n",
    "        'Company Industry': inference_df.loc[idx, 'Company Industry'],\n",
    "        'Company Vertical': inference_df.loc[idx, 'Company Vertical'],\n",
    "        'Company Target Audience': inference_df.loc[idx, 'Company Target Audience'],\n",
    "        'Company Market': inference_df.loc[idx, 'Company Market']\n",
    "        }\n",
    "    \n",
    "    # Create a DataFrame for the current company\n",
    "    company_df = pd.DataFrame(company_info, index=[0])\n",
    "    \n",
    "    # Find similar companies and concatenate the results\n",
    "    similar_companies_df = find_similar_companies(df, company_df, region_mapping,\n",
    "                                                  vertical_filter=True,\n",
    "                                                  industry_filter=False,\n",
    "                                                  region_filter=True)\n",
    "    all_competitors_df = pd.concat([all_competitors_df, similar_companies_df], ignore_index=True)\n",
    "\n",
    "# After the loop, all_competitors_df will contain the results for all companies\n"
   ]
  },
  {
   "cell_type": "code",
   "execution_count": null,
   "metadata": {},
   "outputs": [],
   "source": [
    "all_competitors_df.to_csv('competitors_valueprop_vertical_v2.csv')"
   ]
  },
  {
   "cell_type": "code",
   "execution_count": null,
   "metadata": {},
   "outputs": [],
   "source": []
  }
 ],
 "metadata": {
  "kernelspec": {
   "display_name": ".venv",
   "language": "python",
   "name": "python3"
  },
  "language_info": {
   "codemirror_mode": {
    "name": "ipython",
    "version": 3
   },
   "file_extension": ".py",
   "mimetype": "text/x-python",
   "name": "python",
   "nbconvert_exporter": "python",
   "pygments_lexer": "ipython3",
   "version": "3.10.12"
  }
 },
 "nbformat": 4,
 "nbformat_minor": 2
}
